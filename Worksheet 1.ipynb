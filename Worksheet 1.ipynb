{
 "cells": [
  {
   "cell_type": "markdown",
   "id": "a317c698",
   "metadata": {},
   "source": [
    "# Python Programming"
   ]
  },
  {
   "cell_type": "code",
   "execution_count": 4,
   "id": "d9c316fd",
   "metadata": {},
   "outputs": [
    {
     "name": "stdout",
     "output_type": "stream",
     "text": [
      "Enter the number1\n",
      "Factorial of the given number is : 1\n"
     ]
    }
   ],
   "source": [
    "# Write a program to find the factorial of a number\n",
    "\n",
    "number = int(input(\"Enter the number\"))\n",
    "Factorial = 1\n",
    "if number < 0:\n",
    "    print(\"Negative integer has not factorial\")\n",
    "elif number==0:\n",
    "    print(\"Factorial of the number is 1\")\n",
    "else:\n",
    "    for i in range(1,number+1):\n",
    "        factorial=factorial*i\n",
    "    print(\"Factorial of the given number is :\", Factorial)\n",
    "    \n",
    "\n"
   ]
  },
  {
   "cell_type": "code",
   "execution_count": 5,
   "id": "ef3a655e",
   "metadata": {},
   "outputs": [
    {
     "name": "stdout",
     "output_type": "stream",
     "text": [
      "Enter the number :5\n",
      "5 number is prime but not composite\n"
     ]
    }
   ],
   "source": [
    "# Write the program to find wether the number is prime or composite\n",
    "\n",
    "n = int(input(\"Enter the number :\"))\n",
    "if(n==0 or n==1):\n",
    "    print(n,\"Number is neither prime nor composite\")\n",
    "elif n>1:\n",
    "    for i in range(2,n):\n",
    "        if(n%i==0):\n",
    "            print(n,\"number is not prime but composite\")\n",
    "            break\n",
    "    else:\n",
    "        print(n,\"number is prime but not composite\")\n",
    "else:\n",
    "    print(\"Enter positive number only\")"
   ]
  },
  {
   "cell_type": "code",
   "execution_count": 6,
   "id": "c925581f",
   "metadata": {},
   "outputs": [
    {
     "name": "stdout",
     "output_type": "stream",
     "text": [
      "Enter a string :python\n",
      "The string is not palindrome\n"
     ]
    }
   ],
   "source": [
    "# Write a python program to chek wether the given string is palindrome or not\n",
    "\n",
    "string = input(\"Enter a string :\")\n",
    "if(string==string[::-1]):\n",
    "    print(\"The string is palindrome\")\n",
    "else:\n",
    "    print(\"The string is not palindrome\")"
   ]
  },
  {
   "cell_type": "code",
   "execution_count": 6,
   "id": "49565352",
   "metadata": {},
   "outputs": [
    {
     "name": "stdout",
     "output_type": "stream",
     "text": [
      "Enter the base of a triangle :5\n",
      "Enter the height of a triangle :6\n",
      "Enter angle :90\n",
      "Third side of a triangle is : 7.810249675906654\n"
     ]
    }
   ],
   "source": [
    "# Write the python program to get the the third side of the right angle triangle\n",
    "\n",
    "import math\n",
    "a = int(input(\"Enter the base of a triangle :\"))\n",
    "b = int(input(\"Enter the height of a triangle :\"))\n",
    "x = int(input(\"Enter angle :\"))\n",
    "c = math.sqrt(a**2 + b**2)\n",
    "print(\"Third side of a triangle is :\",c)"
   ]
  },
  {
   "cell_type": "code",
   "execution_count": null,
   "id": "364958b4",
   "metadata": {},
   "outputs": [],
   "source": []
  }
 ],
 "metadata": {
  "kernelspec": {
   "display_name": "Python 3",
   "language": "python",
   "name": "python3"
  },
  "language_info": {
   "codemirror_mode": {
    "name": "ipython",
    "version": 3
   },
   "file_extension": ".py",
   "mimetype": "text/x-python",
   "name": "python",
   "nbconvert_exporter": "python",
   "pygments_lexer": "ipython3",
   "version": "3.8.8"
  }
 },
 "nbformat": 4,
 "nbformat_minor": 5
}
